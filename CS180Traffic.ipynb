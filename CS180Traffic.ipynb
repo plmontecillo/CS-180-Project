{
  "nbformat": 4,
  "nbformat_minor": 0,
  "metadata": {
    "colab": {
      "provenance": [],
      "include_colab_link": true
    },
    "kernelspec": {
      "name": "python3",
      "display_name": "Python 3"
    },
    "language_info": {
      "name": "python"
    }
  },
  "cells": [
    {
      "cell_type": "markdown",
      "metadata": {
        "id": "view-in-github",
        "colab_type": "text"
      },
      "source": [
        "<a href=\"https://colab.research.google.com/github/plmontecillo/CS-180-Project/blob/main/CS180Traffic.ipynb\" target=\"_parent\"><img src=\"https://colab.research.google.com/assets/colab-badge.svg\" alt=\"Open In Colab\"/></a>"
      ]
    },
    {
      "cell_type": "markdown",
      "source": [
        "# Part I: Data Collection and Processing\n",
        "\n",
        "Historical traffic data in the City of Manila for May 31 to June 6, 2023 was collected from tomtom.com and transcribed into a dataset.\n",
        "\n",
        "This data consists of 7 days worth of hourly traffic data (168 rows) consisting of 3 features:\n",
        "\n",
        "1.   Live speed (kilometers/hour) - Formula is km-driven over travel time. The travel time and km-driven are calculated for each directed road segment (DSEG) within the city circle (s.a.) on an hourly basis.\n",
        "2.   Usual time per 10km (seconds) - Typical travel time per 10km based on TomTom historic data (from 2022). Converted from minutes and seconds format.\n",
        "3.   Live time per 10km (seconds) - Real-time measurement of traffic in the city. Shows the average time it would currently take to travel 10 km. Converted from minutes and seconds format.\n",
        "\n",
        "(Descriptions summarized from https://www.tomtom.com/traffic-index/about/)\n",
        "\n",
        "The weather data for the City of Manila during the same time period was also collected and transcribed from timeanddate.com. However, this data was only available for for every third hour, and some rows were missing. To circumvent this, the data for the hour that is recorded is taken as the data for the previous and next hours. For the first hour, data was taken from the last recording of the previous day (May 30, 2023). And as for the hours with missing data, the last available weather data was used.\n",
        "\n",
        "This data consists of 7 days worth of weather data (168 rows) consisting of \n",
        "7 features:\n",
        "\n",
        "1.   Temperature (degrees Celsius) - Temperature taken in the area.\n",
        "2.   Weather - A short description of the weather (e.g. \"Thunderstorms.\").\n",
        "3.   Wind (kilometers/hour) - Wind speed measured in the area.\n",
        "4.   Wind direction (degrees) - A 0 degree wind is defined as a wind that blows directly north to south, and other directions are defined by how much they are rotated counterclockwise from the 0 degree wind.\n",
        "5.   Humidity (percent) - This is relative humidity, a measure of the current amount of water vapor in the air compared to how much can exist at the current temperature.\n",
        "6.   Barometer (millibar) - A measure of atmospheric pressure in the area.\n",
        "7.   Visibility (kilometers) - How far an object can be clearly discerned.\n",
        "\n",
        "For this project, we are concerned with these features: Difference of Live time per 10km and Usual Time per 10km (a derived quantity, which we are trying to predict), temperature, wind, humidity. barometer, and visibility."
      ],
      "metadata": {
        "id": "kpWdsxFwxSYh"
      }
    },
    {
      "cell_type": "code",
      "execution_count": null,
      "metadata": {
        "id": "bc6r3MChn_se"
      },
      "outputs": [],
      "source": [
        "import pandas as pd\n",
        "\n",
        "# read data from provided csv file\n",
        "df = pd.read_csv(\"/content/180_project_training_data.csv\")\n",
        "\n",
        "# create new row using lambda function to assign row values\n",
        "df['Difference between live time and usual time'] = df.apply(lambda row: row[\"Live time per 10 km (s)\"] - row[\"Usual time per 10 km (s)\"] , axis = 1)\n",
        "\n",
        "# drop unnecessary axes\n",
        "df = df.drop([\"Usual time per 10 km (s)\", \"Live time per 10 km (s)\", \"Unnamed: 0\", \"Unnamed: 1\", \"Live speed (km/h)\", \"Weather\", \"Wind direction (°)\"], axis = 1)\n",
        "\n",
        "# scale data values, split data into X (every column except difference between live and usual time) and y (difference between live and usual time columns) dataframes\n",
        "from sklearn.preprocessing import MinMaxScaler\n",
        "scaler = MinMaxScaler()\n",
        "df = scaler.fit_transform(df)\n",
        "X_train = pd.DataFrame(df).iloc[:, :-1]\n",
        "y_train = pd.DataFrame(df).iloc[:, -1]\n",
        "\n",
        "# read data from provided csv file (this time to create the test dataset)\n",
        "df1 = pd.read_csv(\"/content/180_project_testing_data.csv\")\n",
        "\n",
        "# create new row using lambda function to assign row values\n",
        "df1['Difference between live time and usual time'] = df1.apply(lambda row: row[\"Live time per 10 km (s)\"] - row[\"Usual time per 10 km (s)\"] , axis = 1)\n",
        "\n",
        "# drop unnecessary axes\n",
        "df1 = df1.drop([\"Usual time per 10 km (s)\", \"Live time per 10 km (s)\", \"Unnamed: 0\", \"Unnamed: 1\", \"Live speed (km/h)\", \"Weather\", \"Wind direction (°)\"], axis = 1)\n",
        "\n",
        "# scale data values, split data into X (every column except difference between live and usual time) and y (difference between live and usual time columns) dataframes\n",
        "df1 = scaler.fit_transform(df)\n",
        "X_test = pd.DataFrame(df1).iloc[:, :-1]\n",
        "y_test = pd.DataFrame(df1).iloc[:, -1]"
      ]
    },
    {
      "cell_type": "markdown",
      "source": [
        "# Part II: Training and Testing Model"
      ],
      "metadata": {
        "id": "U4vaSngixu2P"
      }
    },
    {
      "cell_type": "markdown",
      "source": [
        "To start, we will create a linear regression model based on the above training data."
      ],
      "metadata": {
        "id": "JVknrTtd0_Gn"
      }
    },
    {
      "cell_type": "code",
      "source": [
        "# import libraries\n",
        "from sklearn.linear_model import LinearRegression\n",
        "from sklearn.preprocessing import PolynomialFeatures\n",
        "\n",
        "degrees = list(range(1, 10))\n",
        "scores = []\n",
        "\n",
        "for i in degrees:\n",
        "  regress = PolynomialFeatures(i) # polynomial regression\n",
        "  # transform the training data\n",
        "  poly_features = regress.fit_transform(X_train)\n",
        "\n",
        "  # linear regressor \n",
        "  poly_reg = LinearRegression()\n",
        "\n",
        "  # fit the polynomial model into the regressor\n",
        "  poly_reg.fit(poly_features, y_train) \n",
        "\n",
        "  # predict training data\n",
        "  y_predicted = poly_reg.predict(poly_features)\n",
        "\n",
        "  # regression score of the model\n",
        "  score = poly_reg.score(poly_features, y_train)\n",
        "  scores.append(score)"
      ],
      "metadata": {
        "id": "1kBqTy4VxuM5"
      },
      "execution_count": null,
      "outputs": []
    },
    {
      "cell_type": "markdown",
      "source": [
        "# Part III: Results"
      ],
      "metadata": {
        "id": "pv9N5rF4x9Sg"
      }
    },
    {
      "cell_type": "code",
      "source": [
        "import matplotlib.pyplot as plt\n",
        "\n",
        "fig, ax = plt.subplots()\n",
        "plt.plot(degrees, scores)\n",
        "ax.set_xlabel(\"polynomial degree\")\n",
        "ax.set_ylabel(\"regression score\")"
      ],
      "metadata": {
        "id": "Qgqbi8xNx-Rd",
        "colab": {
          "base_uri": "https://localhost:8080/",
          "height": 466
        },
        "outputId": "61d02e3d-447a-49af-f007-b06347e0eecf"
      },
      "execution_count": null,
      "outputs": [
        {
          "output_type": "execute_result",
          "data": {
            "text/plain": [
              "Text(0, 0.5, 'regression score')"
            ]
          },
          "metadata": {},
          "execution_count": 7
        },
        {
          "output_type": "display_data",
          "data": {
            "text/plain": [
              "<Figure size 640x480 with 1 Axes>"
            ],
            "image/png": "[encoded data removed]"
          },
          "metadata": {}
        }
      ]
    },
    {
      "cell_type": "markdown",
      "source": [
        "The figure above shows a plot of the polynomial degrees tried in the model against their corresponding regression scores. As shown in the figure, the regression score sharply plateaus at around 0.83 with a polynomial degree of 3 and barely moves from this score at higher degrees. With this observation, we find that the best polynomial degree to use for the model is 3.\n",
        "\n",
        "As seen in the regression score, there is a relationship between weather features, and the time lost in traffic. This could be due to weather conditions causing people to drive slower, such as slowing down due to low visibility on the road. \n",
        "\n",
        "Our model can help warn people about time lost to traffic in bad weather and plan accordingly, or be used to identify road infrastructure that needs to be adjusted for extreme weather conditions."
      ],
      "metadata": {
        "id": "kIpU_AnzNyxJ"
      }
    }
  ]
}